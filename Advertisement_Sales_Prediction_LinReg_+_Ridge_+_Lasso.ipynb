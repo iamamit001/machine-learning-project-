{
  "cells": [
    {
      "cell_type": "code",
      "execution_count": null,
      "id": "736974f5",
      "metadata": {
        "id": "736974f5"
      },
      "outputs": [],
      "source": [
        "import pandas as pd\n",
        "import numpy as np\n",
        "import matplotlib.pyplot as plt\n",
        "import seaborn as sns"
      ]
    },
    {
      "cell_type": "code",
      "execution_count": null,
      "id": "5a65c70b",
      "metadata": {
        "id": "5a65c70b",
        "outputId": "d1e7384a-901f-4431-f7d9-bd0bcb98b240"
      },
      "outputs": [
        {
          "data": {
            "text/html": [
              "<div>\n",
              "<style scoped>\n",
              "    .dataframe tbody tr th:only-of-type {\n",
              "        vertical-align: middle;\n",
              "    }\n",
              "\n",
              "    .dataframe tbody tr th {\n",
              "        vertical-align: top;\n",
              "    }\n",
              "\n",
              "    .dataframe thead th {\n",
              "        text-align: right;\n",
              "    }\n",
              "</style>\n",
              "<table border=\"1\" class=\"dataframe\">\n",
              "  <thead>\n",
              "    <tr style=\"text-align: right;\">\n",
              "      <th></th>\n",
              "      <th>TV Ad Budget ($)</th>\n",
              "      <th>Radio Ad Budget ($)</th>\n",
              "      <th>Newspaper Ad Budget ($)</th>\n",
              "      <th>Sales ($)</th>\n",
              "    </tr>\n",
              "  </thead>\n",
              "  <tbody>\n",
              "    <tr>\n",
              "      <th>0</th>\n",
              "      <td>230.1</td>\n",
              "      <td>37.8</td>\n",
              "      <td>69.2</td>\n",
              "      <td>22.1</td>\n",
              "    </tr>\n",
              "    <tr>\n",
              "      <th>1</th>\n",
              "      <td>44.5</td>\n",
              "      <td>39.3</td>\n",
              "      <td>45.1</td>\n",
              "      <td>10.4</td>\n",
              "    </tr>\n",
              "    <tr>\n",
              "      <th>2</th>\n",
              "      <td>17.2</td>\n",
              "      <td>45.9</td>\n",
              "      <td>69.3</td>\n",
              "      <td>9.3</td>\n",
              "    </tr>\n",
              "    <tr>\n",
              "      <th>3</th>\n",
              "      <td>151.5</td>\n",
              "      <td>41.3</td>\n",
              "      <td>58.5</td>\n",
              "      <td>18.5</td>\n",
              "    </tr>\n",
              "    <tr>\n",
              "      <th>4</th>\n",
              "      <td>180.8</td>\n",
              "      <td>10.8</td>\n",
              "      <td>58.4</td>\n",
              "      <td>12.9</td>\n",
              "    </tr>\n",
              "  </tbody>\n",
              "</table>\n",
              "</div>"
            ],
            "text/plain": [
              "   TV Ad Budget ($)  Radio Ad Budget ($)  Newspaper Ad Budget ($)  Sales ($)\n",
              "0             230.1                 37.8                     69.2       22.1\n",
              "1              44.5                 39.3                     45.1       10.4\n",
              "2              17.2                 45.9                     69.3        9.3\n",
              "3             151.5                 41.3                     58.5       18.5\n",
              "4             180.8                 10.8                     58.4       12.9"
            ]
          },
          "execution_count": 85,
          "metadata": {},
          "output_type": "execute_result"
        }
      ],
      "source": [
        "df = pd.read_csv('Advertising_Sales.csv')\n",
        "df.head()"
      ]
    },
    {
      "cell_type": "code",
      "execution_count": null,
      "id": "052d3972",
      "metadata": {
        "id": "052d3972",
        "outputId": "c92bcdd2-8052-4b6d-d5ca-20e5c4025f39"
      },
      "outputs": [
        {
          "data": {
            "text/html": [
              "<div>\n",
              "<style scoped>\n",
              "    .dataframe tbody tr th:only-of-type {\n",
              "        vertical-align: middle;\n",
              "    }\n",
              "\n",
              "    .dataframe tbody tr th {\n",
              "        vertical-align: top;\n",
              "    }\n",
              "\n",
              "    .dataframe thead th {\n",
              "        text-align: right;\n",
              "    }\n",
              "</style>\n",
              "<table border=\"1\" class=\"dataframe\">\n",
              "  <thead>\n",
              "    <tr style=\"text-align: right;\">\n",
              "      <th></th>\n",
              "      <th>TV</th>\n",
              "      <th>Radio</th>\n",
              "      <th>NP</th>\n",
              "      <th>Sales</th>\n",
              "    </tr>\n",
              "  </thead>\n",
              "  <tbody>\n",
              "    <tr>\n",
              "      <th>0</th>\n",
              "      <td>230.1</td>\n",
              "      <td>37.8</td>\n",
              "      <td>69.2</td>\n",
              "      <td>22.1</td>\n",
              "    </tr>\n",
              "    <tr>\n",
              "      <th>1</th>\n",
              "      <td>44.5</td>\n",
              "      <td>39.3</td>\n",
              "      <td>45.1</td>\n",
              "      <td>10.4</td>\n",
              "    </tr>\n",
              "    <tr>\n",
              "      <th>2</th>\n",
              "      <td>17.2</td>\n",
              "      <td>45.9</td>\n",
              "      <td>69.3</td>\n",
              "      <td>9.3</td>\n",
              "    </tr>\n",
              "    <tr>\n",
              "      <th>3</th>\n",
              "      <td>151.5</td>\n",
              "      <td>41.3</td>\n",
              "      <td>58.5</td>\n",
              "      <td>18.5</td>\n",
              "    </tr>\n",
              "    <tr>\n",
              "      <th>4</th>\n",
              "      <td>180.8</td>\n",
              "      <td>10.8</td>\n",
              "      <td>58.4</td>\n",
              "      <td>12.9</td>\n",
              "    </tr>\n",
              "  </tbody>\n",
              "</table>\n",
              "</div>"
            ],
            "text/plain": [
              "      TV  Radio    NP  Sales\n",
              "0  230.1   37.8  69.2   22.1\n",
              "1   44.5   39.3  45.1   10.4\n",
              "2   17.2   45.9  69.3    9.3\n",
              "3  151.5   41.3  58.5   18.5\n",
              "4  180.8   10.8  58.4   12.9"
            ]
          },
          "execution_count": 86,
          "metadata": {},
          "output_type": "execute_result"
        }
      ],
      "source": [
        "df.columns = ['TV','Radio','NP','Sales']\n",
        "df.head()"
      ]
    },
    {
      "cell_type": "code",
      "execution_count": null,
      "id": "9095c5eb",
      "metadata": {
        "id": "9095c5eb",
        "outputId": "0d873c98-83d5-4aa6-e3e2-000edc45dce0"
      },
      "outputs": [
        {
          "data": {
            "text/plain": [
              "(200, 4)"
            ]
          },
          "execution_count": 87,
          "metadata": {},
          "output_type": "execute_result"
        }
      ],
      "source": [
        "df.shape"
      ]
    },
    {
      "cell_type": "code",
      "execution_count": null,
      "id": "d760698d",
      "metadata": {
        "id": "d760698d",
        "outputId": "2714ad3b-7c90-4de6-cdab-3b547a395d7d"
      },
      "outputs": [
        {
          "data": {
            "text/plain": [
              "TV       0\n",
              "Radio    0\n",
              "NP       0\n",
              "Sales    0\n",
              "dtype: int64"
            ]
          },
          "execution_count": 88,
          "metadata": {},
          "output_type": "execute_result"
        }
      ],
      "source": [
        "df.isnull().sum()"
      ]
    },
    {
      "cell_type": "code",
      "execution_count": null,
      "id": "7870813a",
      "metadata": {
        "id": "7870813a",
        "outputId": "e1ac03e1-adde-4cc7-a984-267dab1eb96f"
      },
      "outputs": [
        {
          "data": {
            "text/plain": [
              "TV       float64\n",
              "Radio    float64\n",
              "NP       float64\n",
              "Sales    float64\n",
              "dtype: object"
            ]
          },
          "execution_count": 89,
          "metadata": {},
          "output_type": "execute_result"
        }
      ],
      "source": [
        "df.dtypes"
      ]
    },
    {
      "cell_type": "code",
      "execution_count": null,
      "id": "daefa2fd",
      "metadata": {
        "id": "daefa2fd",
        "outputId": "b7f4eccb-b5e4-4ad6-8454-ca9c959b7769"
      },
      "outputs": [
        {
          "data": {
            "text/plain": [
              "0"
            ]
          },
          "execution_count": 90,
          "metadata": {},
          "output_type": "execute_result"
        }
      ],
      "source": [
        "df.duplicated().sum()"
      ]
    },
    {
      "cell_type": "code",
      "execution_count": null,
      "id": "8a41443c",
      "metadata": {
        "id": "8a41443c",
        "outputId": "c603c3bd-9a65-4c1e-cafe-189c4f533179"
      },
      "outputs": [
        {
          "data": {
            "image/png": "[encoded data removed]",
            "text/plain": [
              "<Figure size 360x360 with 1 Axes>"
            ]
          },
          "metadata": {
            "needs_background": "light"
          },
          "output_type": "display_data"
        }
      ],
      "source": [
        "sns.displot(df['Sales'],kind='hist')\n",
        "plt.show()"
      ]
    },
    {
      "cell_type": "code",
      "execution_count": null,
      "id": "8cd04127",
      "metadata": {
        "id": "8cd04127"
      },
      "outputs": [],
      "source": [
        "# sns.displot(np.exp(df['Sales']),kind='hist')\n",
        "# plt.show()"
      ]
    },
    {
      "cell_type": "code",
      "execution_count": null,
      "id": "1699193f",
      "metadata": {
        "id": "1699193f",
        "outputId": "6d4d3401-69b9-438a-bc9f-30079335aeb8"
      },
      "outputs": [
        {
          "data": {
            "image/png": "[encoded data removed]",
            "text/plain": [
              "<Figure size 432x288 with 2 Axes>"
            ]
          },
          "metadata": {
            "needs_background": "light"
          },
          "output_type": "display_data"
        }
      ],
      "source": [
        "corr = df.corr()\n",
        "sns.heatmap(corr,annot=True)\n",
        "plt.show()"
      ]
    },
    {
      "cell_type": "code",
      "execution_count": null,
      "id": "d38e6f9b",
      "metadata": {
        "id": "d38e6f9b",
        "outputId": "de98a049-e082-4bf1-fdb8-1e11bdb7fecc"
      },
      "outputs": [
        {
          "data": {
            "image/png": "[encoded data removed]",
            "text/plain": [
              "<Figure size 720x720 with 20 Axes>"
            ]
          },
          "metadata": {
            "needs_background": "light"
          },
          "output_type": "display_data"
        }
      ],
      "source": [
        "sns.pairplot(data=df)\n",
        "plt.show()"
      ]
    },
    {
      "cell_type": "code",
      "execution_count": null,
      "id": "b9d1d29c",
      "metadata": {
        "id": "b9d1d29c",
        "outputId": "55bc4091-56dd-4df8-ad19-7d4a25ef6b5c"
      },
      "outputs": [
        {
          "data": {
            "image/png": "[encoded data removed]",
            "text/plain": [
              "<Figure size 432x288 with 1 Axes>"
            ]
          },
          "metadata": {
            "needs_background": "light"
          },
          "output_type": "display_data"
        },
        {
          "data": {
            "image/png": "[encoded data removed]",
            "text/plain": [
              "<Figure size 432x288 with 1 Axes>"
            ]
          },
          "metadata": {
            "needs_background": "light"
          },
          "output_type": "display_data"
        },
        {
          "data": {
            "image/png": "[encoded data removed]",
            "text/plain": [
              "<Figure size 432x288 with 1 Axes>"
            ]
          },
          "metadata": {
            "needs_background": "light"
          },
          "output_type": "display_data"
        },
        {
          "data": {
            "image/png": "[encoded data removed]",
            "text/plain": [
              "<Figure size 432x288 with 1 Axes>"
            ]
          },
          "metadata": {
            "needs_background": "light"
          },
          "output_type": "display_data"
        }
      ],
      "source": [
        "for i in df.columns:\n",
        "    sns.boxplot(x = df[i])\n",
        "    plt.show()"
      ]
    },
    {
      "cell_type": "code",
      "execution_count": null,
      "id": "8f7da6e9",
      "metadata": {
        "id": "8f7da6e9",
        "outputId": "bb634e39-ba6e-4583-bb17-21a1422a2405"
      },
      "outputs": [
        {
          "data": {
            "text/html": [
              "<div>\n",
              "<style scoped>\n",
              "    .dataframe tbody tr th:only-of-type {\n",
              "        vertical-align: middle;\n",
              "    }\n",
              "\n",
              "    .dataframe tbody tr th {\n",
              "        vertical-align: top;\n",
              "    }\n",
              "\n",
              "    .dataframe thead th {\n",
              "        text-align: right;\n",
              "    }\n",
              "</style>\n",
              "<table border=\"1\" class=\"dataframe\">\n",
              "  <thead>\n",
              "    <tr style=\"text-align: right;\">\n",
              "      <th></th>\n",
              "      <th>count</th>\n",
              "      <th>mean</th>\n",
              "      <th>std</th>\n",
              "      <th>min</th>\n",
              "      <th>1%</th>\n",
              "      <th>2%</th>\n",
              "      <th>5%</th>\n",
              "      <th>50%</th>\n",
              "      <th>95%</th>\n",
              "      <th>97%</th>\n",
              "      <th>98%</th>\n",
              "      <th>99%</th>\n",
              "      <th>max</th>\n",
              "    </tr>\n",
              "  </thead>\n",
              "  <tbody>\n",
              "    <tr>\n",
              "      <th>TV</th>\n",
              "      <td>200.0</td>\n",
              "      <td>147.0425</td>\n",
              "      <td>85.854236</td>\n",
              "      <td>0.7</td>\n",
              "      <td>5.387</td>\n",
              "      <td>7.790</td>\n",
              "      <td>13.195</td>\n",
              "      <td>149.75</td>\n",
              "      <td>280.735</td>\n",
              "      <td>286.048</td>\n",
              "      <td>289.720</td>\n",
              "      <td>292.907</td>\n",
              "      <td>296.4</td>\n",
              "    </tr>\n",
              "    <tr>\n",
              "      <th>Radio</th>\n",
              "      <td>200.0</td>\n",
              "      <td>23.2640</td>\n",
              "      <td>14.846809</td>\n",
              "      <td>0.0</td>\n",
              "      <td>0.399</td>\n",
              "      <td>1.290</td>\n",
              "      <td>1.995</td>\n",
              "      <td>22.90</td>\n",
              "      <td>46.810</td>\n",
              "      <td>48.900</td>\n",
              "      <td>49.000</td>\n",
              "      <td>49.400</td>\n",
              "      <td>49.6</td>\n",
              "    </tr>\n",
              "    <tr>\n",
              "      <th>NP</th>\n",
              "      <td>200.0</td>\n",
              "      <td>30.5540</td>\n",
              "      <td>21.778621</td>\n",
              "      <td>0.3</td>\n",
              "      <td>0.999</td>\n",
              "      <td>1.798</td>\n",
              "      <td>3.600</td>\n",
              "      <td>25.75</td>\n",
              "      <td>71.825</td>\n",
              "      <td>75.018</td>\n",
              "      <td>79.312</td>\n",
              "      <td>89.515</td>\n",
              "      <td>114.0</td>\n",
              "    </tr>\n",
              "    <tr>\n",
              "      <th>Sales</th>\n",
              "      <td>200.0</td>\n",
              "      <td>14.0225</td>\n",
              "      <td>5.217457</td>\n",
              "      <td>1.6</td>\n",
              "      <td>4.784</td>\n",
              "      <td>5.300</td>\n",
              "      <td>6.600</td>\n",
              "      <td>12.90</td>\n",
              "      <td>23.800</td>\n",
              "      <td>24.721</td>\n",
              "      <td>25.400</td>\n",
              "      <td>25.507</td>\n",
              "      <td>27.0</td>\n",
              "    </tr>\n",
              "  </tbody>\n",
              "</table>\n",
              "</div>"
            ],
            "text/plain": [
              "       count      mean        std  min     1%     2%      5%     50%      95%  \\\n",
              "TV     200.0  147.0425  85.854236  0.7  5.387  7.790  13.195  149.75  280.735   \n",
              "Radio  200.0   23.2640  14.846809  0.0  0.399  1.290   1.995   22.90   46.810   \n",
              "NP     200.0   30.5540  21.778621  0.3  0.999  1.798   3.600   25.75   71.825   \n",
              "Sales  200.0   14.0225   5.217457  1.6  4.784  5.300   6.600   12.90   23.800   \n",
              "\n",
              "           97%      98%      99%    max  \n",
              "TV     286.048  289.720  292.907  296.4  \n",
              "Radio   48.900   49.000   49.400   49.6  \n",
              "NP      75.018   79.312   89.515  114.0  \n",
              "Sales   24.721   25.400   25.507   27.0  "
            ]
          },
          "execution_count": 95,
          "metadata": {},
          "output_type": "execute_result"
        }
      ],
      "source": [
        "df.describe(percentiles=[0.01,0.02,0.05,0.95,0.97,0.98,0.99]).T"
      ]
    },
    {
      "cell_type": "code",
      "execution_count": null,
      "id": "b2569809",
      "metadata": {
        "id": "b2569809"
      },
      "outputs": [],
      "source": [
        "def outlier_treatment(x):\n",
        "    x = x.clip(lower=x.quantile(0.05))\n",
        "    x = x.clip(upper=x.quantile(0.95))\n",
        "    return x"
      ]
    },
    {
      "cell_type": "code",
      "execution_count": null,
      "id": "384f5afe",
      "metadata": {
        "id": "384f5afe",
        "outputId": "742c78f9-0893-4cc8-a936-c111813ba0ec"
      },
      "outputs": [
        {
          "data": {
            "text/plain": [
              "['TV', 'Radio', 'NP', 'Sales']"
            ]
          },
          "execution_count": 102,
          "metadata": {},
          "output_type": "execute_result"
        }
      ],
      "source": [
        "cols = list(df.columns)\n",
        "cols"
      ]
    },
    {
      "cell_type": "code",
      "execution_count": null,
      "id": "86d9485e",
      "metadata": {
        "id": "86d9485e"
      },
      "outputs": [],
      "source": [
        "df[cols] = df[cols].apply(outlier_treatment)"
      ]
    },
    {
      "cell_type": "code",
      "execution_count": null,
      "id": "16d82e2b",
      "metadata": {
        "id": "16d82e2b",
        "outputId": "698f17d3-393e-4877-8a3c-6b5779edea59"
      },
      "outputs": [
        {
          "name": "stdout",
          "output_type": "stream",
          "text": [
            "(200, 3)\n",
            "(200,)\n"
          ]
        }
      ],
      "source": [
        "x = df.drop('Sales',axis=1)\n",
        "y = df['Sales']\n",
        "print(x.shape)\n",
        "print(y.shape)"
      ]
    },
    {
      "cell_type": "code",
      "execution_count": null,
      "id": "36628017",
      "metadata": {
        "id": "36628017",
        "outputId": "cf810fc7-60ae-4c98-a3aa-121c67ae4cb5"
      },
      "outputs": [
        {
          "name": "stdout",
          "output_type": "stream",
          "text": [
            "(150, 3)\n",
            "(50, 3)\n",
            "(150,)\n",
            "(50,)\n"
          ]
        }
      ],
      "source": [
        "from sklearn.model_selection import train_test_split\n",
        "x_train, x_test, y_train, y_test = train_test_split(x,y, test_size=0.25, random_state=1)\n",
        "print(x_train.shape)\n",
        "print(x_test.shape)\n",
        "print(y_train.shape)\n",
        "print(y_test.shape)"
      ]
    },
    {
      "cell_type": "code",
      "execution_count": null,
      "id": "d3660e68",
      "metadata": {
        "id": "d3660e68",
        "outputId": "b473e7fe-975d-4718-d40f-2038f3c53308"
      },
      "outputs": [
        {
          "name": "stdout",
          "output_type": "stream",
          "text": [
            "<class 'pandas.core.frame.DataFrame'> <class 'pandas.core.frame.DataFrame'>\n",
            "<class 'pandas.core.series.Series'> <class 'pandas.core.series.Series'>\n"
          ]
        }
      ],
      "source": [
        "print(type(x_train),type(x_test))\n",
        "print(type(y_train),type(y_test))"
      ]
    },
    {
      "cell_type": "code",
      "execution_count": null,
      "id": "61663a29",
      "metadata": {
        "id": "61663a29",
        "outputId": "ac4ac193-67b2-4f61-b067-f7216d123535"
      },
      "outputs": [
        {
          "data": {
            "text/html": [
              "<div>\n",
              "<style scoped>\n",
              "    .dataframe tbody tr th:only-of-type {\n",
              "        vertical-align: middle;\n",
              "    }\n",
              "\n",
              "    .dataframe tbody tr th {\n",
              "        vertical-align: top;\n",
              "    }\n",
              "\n",
              "    .dataframe thead th {\n",
              "        text-align: right;\n",
              "    }\n",
              "</style>\n",
              "<table border=\"1\" class=\"dataframe\">\n",
              "  <thead>\n",
              "    <tr style=\"text-align: right;\">\n",
              "      <th></th>\n",
              "      <th>TV</th>\n",
              "      <th>Radio</th>\n",
              "      <th>NP</th>\n",
              "    </tr>\n",
              "  </thead>\n",
              "  <tbody>\n",
              "    <tr>\n",
              "      <th>98</th>\n",
              "      <td>280.735</td>\n",
              "      <td>42.3</td>\n",
              "      <td>51.2</td>\n",
              "    </tr>\n",
              "    <tr>\n",
              "      <th>123</th>\n",
              "      <td>123.100</td>\n",
              "      <td>34.6</td>\n",
              "      <td>12.4</td>\n",
              "    </tr>\n",
              "    <tr>\n",
              "      <th>119</th>\n",
              "      <td>19.400</td>\n",
              "      <td>16.0</td>\n",
              "      <td>22.3</td>\n",
              "    </tr>\n",
              "    <tr>\n",
              "      <th>53</th>\n",
              "      <td>182.600</td>\n",
              "      <td>46.2</td>\n",
              "      <td>58.7</td>\n",
              "    </tr>\n",
              "    <tr>\n",
              "      <th>33</th>\n",
              "      <td>265.600</td>\n",
              "      <td>20.0</td>\n",
              "      <td>3.6</td>\n",
              "    </tr>\n",
              "  </tbody>\n",
              "</table>\n",
              "</div>"
            ],
            "text/plain": [
              "          TV  Radio    NP\n",
              "98   280.735   42.3  51.2\n",
              "123  123.100   34.6  12.4\n",
              "119   19.400   16.0  22.3\n",
              "53   182.600   46.2  58.7\n",
              "33   265.600   20.0   3.6"
            ]
          },
          "execution_count": 107,
          "metadata": {},
          "output_type": "execute_result"
        }
      ],
      "source": [
        "x_train.head()"
      ]
    },
    {
      "cell_type": "code",
      "execution_count": null,
      "id": "810f84af",
      "metadata": {
        "id": "810f84af"
      },
      "outputs": [],
      "source": [
        "from sklearn.metrics import mean_absolute_error, mean_squared_error, r2_score\n",
        "from sklearn.linear_model import LinearRegression, Ridge, Lasso, ElasticNet"
      ]
    },
    {
      "cell_type": "code",
      "execution_count": null,
      "id": "c335031d",
      "metadata": {
        "id": "c335031d"
      },
      "outputs": [],
      "source": [
        "def evaluate(y, ypred):\n",
        "    mae = mean_absolute_error(y, ypred)\n",
        "    mse = mean_squared_error(y, ypred)\n",
        "    rmse = np.sqrt(mean_squared_error(y, ypred))\n",
        "    r_sqr = r2_score(y, ypred)\n",
        "    return mae, mse,rmse, r_sqr\n",
        "\n",
        "def train_test_scr(model):\n",
        "    print('Training Score',model.score(x_train,y_train))\n",
        "    print('Testing Score',model.score(x_test,y_test))"
      ]
    },
    {
      "cell_type": "code",
      "execution_count": null,
      "id": "637d58df",
      "metadata": {
        "id": "637d58df"
      },
      "outputs": [],
      "source": [
        "model_tab = pd.DataFrame(columns=[\"Model\", \"MAE\", \"MSE\",'RMSE',\"R2 Score\"])"
      ]
    },
    {
      "cell_type": "markdown",
      "id": "e2aa6aed",
      "metadata": {
        "id": "e2aa6aed"
      },
      "source": [
        "### LinearReg"
      ]
    },
    {
      "cell_type": "code",
      "execution_count": null,
      "id": "9b995d61",
      "metadata": {
        "id": "9b995d61"
      },
      "outputs": [],
      "source": [
        "m1 = LinearRegression()\n",
        "m1.fit(x_train, y_train)\n",
        "ypred_m1 = m1.predict(x_test)"
      ]
    },
    {
      "cell_type": "code",
      "execution_count": null,
      "id": "1518f59e",
      "metadata": {
        "id": "1518f59e",
        "outputId": "f573a6aa-2b66-4be9-c89f-23f8f7c05462"
      },
      "outputs": [
        {
          "name": "stdout",
          "output_type": "stream",
          "text": [
            "Training Score 0.8998550527269576\n",
            "Testing Score 0.918879798364617\n"
          ]
        }
      ],
      "source": [
        "train_test_scr(m1)"
      ]
    },
    {
      "cell_type": "code",
      "execution_count": null,
      "id": "e6531cca",
      "metadata": {
        "id": "e6531cca",
        "outputId": "170f3e96-f86c-47b8-894f-aca6ded21a40"
      },
      "outputs": [
        {
          "name": "stdout",
          "output_type": "stream",
          "text": [
            "MAE: 1.0174957073079318\n",
            "MSE: 1.7742623480923234\n",
            "RMSE: 1.3320143948517686\n",
            "R2 Score: 0.918879798364617\n"
          ]
        }
      ],
      "source": [
        "mae_lr, mse_lr,rmse_lr, r2_lr = evaluate(y_test, ypred_m1)\n",
        "print(\"MAE:\", mae_lr)\n",
        "print(\"MSE:\", mse_lr)\n",
        "print(\"RMSE:\", rmse_lr)\n",
        "print(\"R2 Score:\", r2_lr)"
      ]
    },
    {
      "cell_type": "code",
      "execution_count": null,
      "id": "33d36ddc",
      "metadata": {
        "id": "33d36ddc",
        "outputId": "0febda9d-00a4-48cd-ed0c-158918065abb"
      },
      "outputs": [
        {
          "data": {
            "text/html": [
              "<div>\n",
              "<style scoped>\n",
              "    .dataframe tbody tr th:only-of-type {\n",
              "        vertical-align: middle;\n",
              "    }\n",
              "\n",
              "    .dataframe tbody tr th {\n",
              "        vertical-align: top;\n",
              "    }\n",
              "\n",
              "    .dataframe thead th {\n",
              "        text-align: right;\n",
              "    }\n",
              "</style>\n",
              "<table border=\"1\" class=\"dataframe\">\n",
              "  <thead>\n",
              "    <tr style=\"text-align: right;\">\n",
              "      <th></th>\n",
              "      <th>Model</th>\n",
              "      <th>MAE</th>\n",
              "      <th>MSE</th>\n",
              "      <th>RMSE</th>\n",
              "      <th>R2 Score</th>\n",
              "    </tr>\n",
              "  </thead>\n",
              "  <tbody>\n",
              "    <tr>\n",
              "      <th>0</th>\n",
              "      <td>LinearRegression</td>\n",
              "      <td>1.017496</td>\n",
              "      <td>1.774262</td>\n",
              "      <td>1.332014</td>\n",
              "      <td>0.91888</td>\n",
              "    </tr>\n",
              "  </tbody>\n",
              "</table>\n",
              "</div>"
            ],
            "text/plain": [
              "              Model       MAE       MSE      RMSE  R2 Score\n",
              "0  LinearRegression  1.017496  1.774262  1.332014   0.91888"
            ]
          },
          "execution_count": 214,
          "metadata": {},
          "output_type": "execute_result"
        }
      ],
      "source": [
        "new_row = {\"Model\": \"LinearRegression\",\"MAE\": mae_lr, \"MSE\": mse_lr,\n",
        "           \"RMSE\": rmse_lr,\"R2 Score\": r2_lr}\n",
        "models = model_tab.append(new_row, ignore_index=True)\n",
        "models"
      ]
    },
    {
      "cell_type": "code",
      "execution_count": null,
      "id": "89a6fe22",
      "metadata": {
        "id": "89a6fe22",
        "outputId": "8259a25d-b7ae-42cb-d478-aafb579b366a"
      },
      "outputs": [
        {
          "name": "stdout",
          "output_type": "stream",
          "text": [
            "[0.04418473 0.17602183 0.00110357]\n",
            "3.3890507609095923\n"
          ]
        }
      ],
      "source": [
        "m1_coef = m1.coef_\n",
        "m1_interc = m1.intercept_\n",
        "print(m1_coef)\n",
        "print(m1_interc)"
      ]
    },
    {
      "cell_type": "markdown",
      "id": "1056dfcc",
      "metadata": {
        "id": "1056dfcc"
      },
      "source": [
        "### Ridge Reg"
      ]
    },
    {
      "cell_type": "code",
      "execution_count": null,
      "id": "856ec69a",
      "metadata": {
        "id": "856ec69a"
      },
      "outputs": [],
      "source": [
        "m2 = Ridge(alpha=7.8)\n",
        "m2.fit(x_train, y_train)\n",
        "ypred_m2 = m2.predict(x_test)"
      ]
    },
    {
      "cell_type": "code",
      "execution_count": null,
      "id": "ecab8fd3",
      "metadata": {
        "id": "ecab8fd3",
        "outputId": "4a1ad3b9-477e-4fef-c04d-5afde55ebf29"
      },
      "outputs": [
        {
          "name": "stdout",
          "output_type": "stream",
          "text": [
            "Training Score 0.8998550342645657\n",
            "Testing Score 0.9188472836964413\n"
          ]
        }
      ],
      "source": [
        "train_test_scr(m2)"
      ]
    },
    {
      "cell_type": "code",
      "execution_count": null,
      "id": "48ce899d",
      "metadata": {
        "id": "48ce899d",
        "outputId": "892a7b57-5ff9-438d-bfb3-502c251e60e2"
      },
      "outputs": [
        {
          "name": "stdout",
          "output_type": "stream",
          "text": [
            "MAE: 1.0176859166599102\n",
            "MSE: 1.7749735094348973\n",
            "RMSE: 1.3322813176784014\n",
            "R2 Score: 0.9188472836964413\n"
          ]
        }
      ],
      "source": [
        "mae_rid, mse_rid,rmse_rid, r2_rid = evaluate(y_test, ypred_m2)\n",
        "print(\"MAE:\", mae_rid)\n",
        "print(\"MSE:\", mse_rid)\n",
        "print(\"RMSE:\", rmse_rid)\n",
        "print(\"R2 Score:\", r2_rid)"
      ]
    },
    {
      "cell_type": "code",
      "execution_count": null,
      "id": "c631f9ec",
      "metadata": {
        "id": "c631f9ec",
        "outputId": "0b2401e3-6e41-4be8-a3b4-85a801a9cb14"
      },
      "outputs": [
        {
          "data": {
            "text/html": [
              "<div>\n",
              "<style scoped>\n",
              "    .dataframe tbody tr th:only-of-type {\n",
              "        vertical-align: middle;\n",
              "    }\n",
              "\n",
              "    .dataframe tbody tr th {\n",
              "        vertical-align: top;\n",
              "    }\n",
              "\n",
              "    .dataframe thead th {\n",
              "        text-align: right;\n",
              "    }\n",
              "</style>\n",
              "<table border=\"1\" class=\"dataframe\">\n",
              "  <thead>\n",
              "    <tr style=\"text-align: right;\">\n",
              "      <th></th>\n",
              "      <th>Model</th>\n",
              "      <th>MAE</th>\n",
              "      <th>MSE</th>\n",
              "      <th>RMSE</th>\n",
              "      <th>R2 Score</th>\n",
              "    </tr>\n",
              "  </thead>\n",
              "  <tbody>\n",
              "    <tr>\n",
              "      <th>0</th>\n",
              "      <td>LinearRegression</td>\n",
              "      <td>1.017496</td>\n",
              "      <td>1.774262</td>\n",
              "      <td>1.332014</td>\n",
              "      <td>0.918880</td>\n",
              "    </tr>\n",
              "    <tr>\n",
              "      <th>1</th>\n",
              "      <td>Ridge_Reg</td>\n",
              "      <td>1.017686</td>\n",
              "      <td>1.774974</td>\n",
              "      <td>1.332281</td>\n",
              "      <td>0.918847</td>\n",
              "    </tr>\n",
              "  </tbody>\n",
              "</table>\n",
              "</div>"
            ],
            "text/plain": [
              "              Model       MAE       MSE      RMSE  R2 Score\n",
              "0  LinearRegression  1.017496  1.774262  1.332014  0.918880\n",
              "1         Ridge_Reg  1.017686  1.774974  1.332281  0.918847"
            ]
          },
          "execution_count": 219,
          "metadata": {},
          "output_type": "execute_result"
        }
      ],
      "source": [
        "new_row1 = {\"Model\": \"Ridge_Reg\",\"MAE\": mae_rid, \"MSE\": mse_rid,\n",
        "           \"RMSE\": rmse_rid,\"R2 Score\": r2_rid}\n",
        "models = models.append(new_row1, ignore_index=True)\n",
        "models"
      ]
    },
    {
      "cell_type": "code",
      "execution_count": null,
      "id": "7459dc19",
      "metadata": {
        "id": "7459dc19",
        "outputId": "230fe2b8-9446-4d0e-e340-24d1483db347"
      },
      "outputs": [
        {
          "name": "stdout",
          "output_type": "stream",
          "text": [
            "[0.04418458 0.17597196 0.00111894]\n",
            "3.3897700141072615\n"
          ]
        }
      ],
      "source": [
        "m2_coef = m2.coef_\n",
        "m2_interc = m2.intercept_\n",
        "print(m2_coef)\n",
        "print(m2_interc)"
      ]
    },
    {
      "cell_type": "markdown",
      "id": "00bb6085",
      "metadata": {
        "id": "00bb6085"
      },
      "source": [
        "### Lasso Reg"
      ]
    },
    {
      "cell_type": "code",
      "execution_count": null,
      "id": "56f83efd",
      "metadata": {
        "id": "56f83efd"
      },
      "outputs": [],
      "source": [
        "m3 = Lasso(alpha=4.5)\n",
        "m3.fit(x_train, y_train)\n",
        "ypred_m3 = m3.predict(x_test)"
      ]
    },
    {
      "cell_type": "code",
      "execution_count": null,
      "id": "4c2f5aa2",
      "metadata": {
        "id": "4c2f5aa2",
        "outputId": "4992ead1-0e5f-4454-822b-57e7dd0eacb1"
      },
      "outputs": [
        {
          "name": "stdout",
          "output_type": "stream",
          "text": [
            "Training Score 0.8960849938643677\n",
            "Testing Score 0.9050762166069869\n"
          ]
        }
      ],
      "source": [
        "train_test_scr(m3)"
      ]
    },
    {
      "cell_type": "code",
      "execution_count": null,
      "id": "9e1925ee",
      "metadata": {
        "id": "9e1925ee",
        "outputId": "8b416755-5133-4591-db3a-6f46c9082b72"
      },
      "outputs": [
        {
          "name": "stdout",
          "output_type": "stream",
          "text": [
            "MAE: 1.0786247645332248\n",
            "MSE: 2.076174509152518\n",
            "RMSE: 1.4408936494941318\n",
            "R2 Score: 0.9050762166069869\n"
          ]
        }
      ],
      "source": [
        "mae_las, mse_las,rmse_las, r2_las = evaluate(y_test, ypred_m3)\n",
        "print(\"MAE:\", mae_las)\n",
        "print(\"MSE:\", mse_las)\n",
        "print(\"RMSE:\", rmse_las)\n",
        "print(\"R2 Score:\", r2_las)"
      ]
    },
    {
      "cell_type": "code",
      "execution_count": null,
      "id": "822e65e6",
      "metadata": {
        "id": "822e65e6",
        "outputId": "d9d256c3-efe1-48ed-b544-5806fceb3b8a"
      },
      "outputs": [
        {
          "data": {
            "text/html": [
              "<div>\n",
              "<style scoped>\n",
              "    .dataframe tbody tr th:only-of-type {\n",
              "        vertical-align: middle;\n",
              "    }\n",
              "\n",
              "    .dataframe tbody tr th {\n",
              "        vertical-align: top;\n",
              "    }\n",
              "\n",
              "    .dataframe thead th {\n",
              "        text-align: right;\n",
              "    }\n",
              "</style>\n",
              "<table border=\"1\" class=\"dataframe\">\n",
              "  <thead>\n",
              "    <tr style=\"text-align: right;\">\n",
              "      <th></th>\n",
              "      <th>Model</th>\n",
              "      <th>MAE</th>\n",
              "      <th>MSE</th>\n",
              "      <th>RMSE</th>\n",
              "      <th>R2 Score</th>\n",
              "    </tr>\n",
              "  </thead>\n",
              "  <tbody>\n",
              "    <tr>\n",
              "      <th>0</th>\n",
              "      <td>LinearRegression</td>\n",
              "      <td>1.017496</td>\n",
              "      <td>1.774262</td>\n",
              "      <td>1.332014</td>\n",
              "      <td>0.918880</td>\n",
              "    </tr>\n",
              "    <tr>\n",
              "      <th>1</th>\n",
              "      <td>Ridge_Reg</td>\n",
              "      <td>1.017686</td>\n",
              "      <td>1.774974</td>\n",
              "      <td>1.332281</td>\n",
              "      <td>0.918847</td>\n",
              "    </tr>\n",
              "    <tr>\n",
              "      <th>2</th>\n",
              "      <td>Lasso_Reg</td>\n",
              "      <td>1.078625</td>\n",
              "      <td>2.076175</td>\n",
              "      <td>1.440894</td>\n",
              "      <td>0.905076</td>\n",
              "    </tr>\n",
              "  </tbody>\n",
              "</table>\n",
              "</div>"
            ],
            "text/plain": [
              "              Model       MAE       MSE      RMSE  R2 Score\n",
              "0  LinearRegression  1.017496  1.774262  1.332014  0.918880\n",
              "1         Ridge_Reg  1.017686  1.774974  1.332281  0.918847\n",
              "2         Lasso_Reg  1.078625  2.076175  1.440894  0.905076"
            ]
          },
          "execution_count": 224,
          "metadata": {},
          "output_type": "execute_result"
        }
      ],
      "source": [
        "new_row2 = {\"Model\": \"Lasso_Reg\",\"MAE\": mae_las, \"MSE\": mse_las,\n",
        "           \"RMSE\": rmse_las,\"R2 Score\": r2_las}\n",
        "models = models.append(new_row2, ignore_index=True)\n",
        "models"
      ]
    },
    {
      "cell_type": "code",
      "execution_count": null,
      "id": "8fbd081c",
      "metadata": {
        "id": "8fbd081c",
        "outputId": "3f709e9e-2baa-42de-ccc9-973e577f7da1"
      },
      "outputs": [
        {
          "name": "stdout",
          "output_type": "stream",
          "text": [
            "[0.04373154 0.15651812 0.        ]\n",
            "3.93636158071528\n"
          ]
        }
      ],
      "source": [
        "m3_coef = m3.coef_\n",
        "m3_interc = m3.intercept_\n",
        "print(m3_coef)\n",
        "print(m3_interc)"
      ]
    },
    {
      "cell_type": "markdown",
      "id": "dc90a451",
      "metadata": {
        "id": "dc90a451"
      },
      "source": [
        "### ElasticNet Reg"
      ]
    },
    {
      "cell_type": "code",
      "execution_count": null,
      "id": "245fa215",
      "metadata": {
        "id": "245fa215"
      },
      "outputs": [],
      "source": [
        "m4 = ElasticNet(alpha=8.2)\n",
        "m4.fit(x_train, y_train)\n",
        "ypred_m4 = m4.predict(x_test)"
      ]
    },
    {
      "cell_type": "code",
      "execution_count": null,
      "id": "4a7b2342",
      "metadata": {
        "id": "4a7b2342",
        "outputId": "9452827e-8632-4697-f1b2-be6a7337cbd3"
      },
      "outputs": [
        {
          "name": "stdout",
          "output_type": "stream",
          "text": [
            "Training Score 0.8956955935322662\n",
            "Testing Score 0.9040570703314266\n"
          ]
        }
      ],
      "source": [
        "train_test_scr(m4)"
      ]
    },
    {
      "cell_type": "code",
      "execution_count": null,
      "id": "fa65deaa",
      "metadata": {
        "id": "fa65deaa",
        "outputId": "d1265b6a-5942-47bd-d84c-bfb8f18c32bd"
      },
      "outputs": [
        {
          "name": "stdout",
          "output_type": "stream",
          "text": [
            "MAE: 1.0820455047253594\n",
            "MSE: 2.098465292797914\n",
            "RMSE: 1.448608053545856\n",
            "R2 Score: 0.9040570703314266\n"
          ]
        }
      ],
      "source": [
        "mae_en, mse_en,rmse_en, r2_en = evaluate(y_test, ypred_m4)\n",
        "print(\"MAE:\", mae_en)\n",
        "print(\"MSE:\", mse_en)\n",
        "print(\"RMSE:\", rmse_en)\n",
        "print(\"R2 Score:\", r2_en)"
      ]
    },
    {
      "cell_type": "code",
      "execution_count": null,
      "id": "dc82362c",
      "metadata": {
        "id": "dc82362c",
        "outputId": "772684b1-1a69-454d-b852-95cc825fac4e"
      },
      "outputs": [
        {
          "data": {
            "text/html": [
              "<div>\n",
              "<style scoped>\n",
              "    .dataframe tbody tr th:only-of-type {\n",
              "        vertical-align: middle;\n",
              "    }\n",
              "\n",
              "    .dataframe tbody tr th {\n",
              "        vertical-align: top;\n",
              "    }\n",
              "\n",
              "    .dataframe thead th {\n",
              "        text-align: right;\n",
              "    }\n",
              "</style>\n",
              "<table border=\"1\" class=\"dataframe\">\n",
              "  <thead>\n",
              "    <tr style=\"text-align: right;\">\n",
              "      <th></th>\n",
              "      <th>Model</th>\n",
              "      <th>MAE</th>\n",
              "      <th>MSE</th>\n",
              "      <th>RMSE</th>\n",
              "      <th>R2 Score</th>\n",
              "    </tr>\n",
              "  </thead>\n",
              "  <tbody>\n",
              "    <tr>\n",
              "      <th>0</th>\n",
              "      <td>LinearRegression</td>\n",
              "      <td>1.017496</td>\n",
              "      <td>1.774262</td>\n",
              "      <td>1.332014</td>\n",
              "      <td>0.918880</td>\n",
              "    </tr>\n",
              "    <tr>\n",
              "      <th>1</th>\n",
              "      <td>Ridge_Reg</td>\n",
              "      <td>1.017686</td>\n",
              "      <td>1.774974</td>\n",
              "      <td>1.332281</td>\n",
              "      <td>0.918847</td>\n",
              "    </tr>\n",
              "    <tr>\n",
              "      <th>2</th>\n",
              "      <td>Lasso_Reg</td>\n",
              "      <td>1.078625</td>\n",
              "      <td>2.076175</td>\n",
              "      <td>1.440894</td>\n",
              "      <td>0.905076</td>\n",
              "    </tr>\n",
              "    <tr>\n",
              "      <th>3</th>\n",
              "      <td>ElasticNet_Reg</td>\n",
              "      <td>1.082046</td>\n",
              "      <td>2.098465</td>\n",
              "      <td>1.448608</td>\n",
              "      <td>0.904057</td>\n",
              "    </tr>\n",
              "  </tbody>\n",
              "</table>\n",
              "</div>"
            ],
            "text/plain": [
              "              Model       MAE       MSE      RMSE  R2 Score\n",
              "0  LinearRegression  1.017496  1.774262  1.332014  0.918880\n",
              "1         Ridge_Reg  1.017686  1.774974  1.332281  0.918847\n",
              "2         Lasso_Reg  1.078625  2.076175  1.440894  0.905076\n",
              "3    ElasticNet_Reg  1.082046  2.098465  1.448608  0.904057"
            ]
          },
          "execution_count": 229,
          "metadata": {},
          "output_type": "execute_result"
        }
      ],
      "source": [
        "new_row3 = {\"Model\": \"ElasticNet_Reg\",\"MAE\": mae_en, \"MSE\": mse_en,\n",
        "           \"RMSE\": rmse_en,\"R2 Score\": r2_en}\n",
        "models = models.append(new_row3, ignore_index=True)\n",
        "models"
      ]
    },
    {
      "cell_type": "code",
      "execution_count": null,
      "id": "ff3b5ed2",
      "metadata": {
        "id": "ff3b5ed2",
        "outputId": "5036f606-9938-4ade-e5d2-badd953663e8"
      },
      "outputs": [
        {
          "name": "stdout",
          "output_type": "stream",
          "text": [
            "[0.04376915 0.15544166 0.        ]\n",
            "3.955788404410603\n"
          ]
        }
      ],
      "source": [
        "m4_coef = m4.coef_\n",
        "m4_interc = m4.intercept_\n",
        "print(m4_coef)\n",
        "print(m4_interc)"
      ]
    },
    {
      "cell_type": "code",
      "execution_count": null,
      "id": "39453c4e",
      "metadata": {
        "id": "39453c4e"
      },
      "outputs": [],
      "source": []
    }
  ],
  "metadata": {
    "kernelspec": {
      "display_name": "Python 3",
      "language": "python",
      "name": "python3"
    },
    "language_info": {
      "codemirror_mode": {
        "name": "ipython",
        "version": 3
      },
      "file_extension": ".py",
      "mimetype": "text/x-python",
      "name": "python",
      "nbconvert_exporter": "python",
      "pygments_lexer": "ipython3",
      "version": "3.8.8"
    },
    "colab": {
      "provenance": []
    }
  },
  "nbformat": 4,
  "nbformat_minor": 5
}