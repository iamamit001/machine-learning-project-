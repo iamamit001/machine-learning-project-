{
  "cells": [
    {
      "cell_type": "markdown",
      "metadata": {
        "id": "CVrFgD18-g1c"
      },
      "source": []
    },
    {
      "cell_type": "markdown",
      "metadata": {
        "id": "x7AtIhWmIQK2"
      },
      "source": [
        "\n",
        "\n",
        "---\n",
        "\n",
        "\n",
        "\n",
        "```\n",
        "# This is formatted as code\n",
        " Goal of the project:\n",
        "\n",
        " the fintech company launch there android and ios mobile base app to grow there buisness. but theere is a problem how to recomended this app and offer who really use it. so for that company to give free trail to each and every customer for 24 hour and collect the data from customer who are not intrested to buy without offer and grow their buisness.\n",
        "\n",
        " there is a claasifcation problem......\n",
        "\n",
        "\n"
      ]
    },
    {
      "cell_type": "code",
      "execution_count": null,
      "metadata": {
        "id": "uoiywGYCILpb"
      },
      "outputs": [],
      "source": [
        "import numpy as np # for numeric calcullation\n",
        "import pandas as pd # for data analyse and  data manuplating\n",
        "import matplotlib.pyplot as plt #for data visiulation\n",
        "import seaborn as sns # for data visulation\n",
        "from  dateutil import parser #convert time in date time data type\n"
      ]
    },
    {
      "cell_type": "code",
      "execution_count": null,
      "metadata": {
        "id": "RMm0VmDhKWN6",
        "colab": {
          "base_uri": "https://localhost:8080/",
          "height": 339
        },
        "outputId": "71d579a9-34b4-4721-fb9f-4bdb3d417256"
      },
      "outputs": [
        {
          "output_type": "error",
          "ename": "FileNotFoundError",
          "evalue": "[Errno 2] No such file or directory: '/content/FineTech_appData.csv'",
          "traceback": [
            "\u001b[0;31m---------------------------------------------------------------------------\u001b[0m",
            "\u001b[0;31mFileNotFoundError\u001b[0m                         Traceback (most recent call last)",
            "\u001b[0;32m<ipython-input-12-dd76783c1776>\u001b[0m in \u001b[0;36m<cell line: 1>\u001b[0;34m()\u001b[0m\n\u001b[0;32m----> 1\u001b[0;31m \u001b[0mfinetech_data\u001b[0m \u001b[0;34m=\u001b[0m \u001b[0mpd\u001b[0m\u001b[0;34m.\u001b[0m\u001b[0mread_csv\u001b[0m\u001b[0;34m(\u001b[0m\u001b[0;34m\"/content/FineTech_appData.csv\"\u001b[0m\u001b[0;34m)\u001b[0m\u001b[0;34m\u001b[0m\u001b[0;34m\u001b[0m\u001b[0m\n\u001b[0m\u001b[1;32m      2\u001b[0m \u001b[0mfinetech_data\u001b[0m\u001b[0;34m.\u001b[0m\u001b[0mhead\u001b[0m\u001b[0;34m(\u001b[0m\u001b[0;34m)\u001b[0m\u001b[0;34m\u001b[0m\u001b[0;34m\u001b[0m\u001b[0m\n\u001b[1;32m      3\u001b[0m \u001b[0;34m\u001b[0m\u001b[0m\n",
            "\u001b[0;32m/usr/local/lib/python3.10/dist-packages/pandas/io/parsers/readers.py\u001b[0m in \u001b[0;36mread_csv\u001b[0;34m(filepath_or_buffer, sep, delimiter, header, names, index_col, usecols, dtype, engine, converters, true_values, false_values, skipinitialspace, skiprows, skipfooter, nrows, na_values, keep_default_na, na_filter, verbose, skip_blank_lines, parse_dates, infer_datetime_format, keep_date_col, date_parser, date_format, dayfirst, cache_dates, iterator, chunksize, compression, thousands, decimal, lineterminator, quotechar, quoting, doublequote, escapechar, comment, encoding, encoding_errors, dialect, on_bad_lines, delim_whitespace, low_memory, memory_map, float_precision, storage_options, dtype_backend)\u001b[0m\n\u001b[1;32m    946\u001b[0m     \u001b[0mkwds\u001b[0m\u001b[0;34m.\u001b[0m\u001b[0mupdate\u001b[0m\u001b[0;34m(\u001b[0m\u001b[0mkwds_defaults\u001b[0m\u001b[0;34m)\u001b[0m\u001b[0;34m\u001b[0m\u001b[0;34m\u001b[0m\u001b[0m\n\u001b[1;32m    947\u001b[0m \u001b[0;34m\u001b[0m\u001b[0m\n\u001b[0;32m--> 948\u001b[0;31m     \u001b[0;32mreturn\u001b[0m \u001b[0m_read\u001b[0m\u001b[0;34m(\u001b[0m\u001b[0mfilepath_or_buffer\u001b[0m\u001b[0;34m,\u001b[0m \u001b[0mkwds\u001b[0m\u001b[0;34m)\u001b[0m\u001b[0;34m\u001b[0m\u001b[0;34m\u001b[0m\u001b[0m\n\u001b[0m\u001b[1;32m    949\u001b[0m \u001b[0;34m\u001b[0m\u001b[0m\n\u001b[1;32m    950\u001b[0m \u001b[0;34m\u001b[0m\u001b[0m\n",
            "\u001b[0;32m/usr/local/lib/python3.10/dist-packages/pandas/io/parsers/readers.py\u001b[0m in \u001b[0;36m_read\u001b[0;34m(filepath_or_buffer, kwds)\u001b[0m\n\u001b[1;32m    609\u001b[0m \u001b[0;34m\u001b[0m\u001b[0m\n\u001b[1;32m    610\u001b[0m     \u001b[0;31m# Create the parser.\u001b[0m\u001b[0;34m\u001b[0m\u001b[0;34m\u001b[0m\u001b[0m\n\u001b[0;32m--> 611\u001b[0;31m     \u001b[0mparser\u001b[0m \u001b[0;34m=\u001b[0m \u001b[0mTextFileReader\u001b[0m\u001b[0;34m(\u001b[0m\u001b[0mfilepath_or_buffer\u001b[0m\u001b[0;34m,\u001b[0m \u001b[0;34m**\u001b[0m\u001b[0mkwds\u001b[0m\u001b[0;34m)\u001b[0m\u001b[0;34m\u001b[0m\u001b[0;34m\u001b[0m\u001b[0m\n\u001b[0m\u001b[1;32m    612\u001b[0m \u001b[0;34m\u001b[0m\u001b[0m\n\u001b[1;32m    613\u001b[0m     \u001b[0;32mif\u001b[0m \u001b[0mchunksize\u001b[0m \u001b[0;32mor\u001b[0m \u001b[0miterator\u001b[0m\u001b[0;34m:\u001b[0m\u001b[0;34m\u001b[0m\u001b[0;34m\u001b[0m\u001b[0m\n",
            "\u001b[0;32m/usr/local/lib/python3.10/dist-packages/pandas/io/parsers/readers.py\u001b[0m in \u001b[0;36m__init__\u001b[0;34m(self, f, engine, **kwds)\u001b[0m\n\u001b[1;32m   1446\u001b[0m \u001b[0;34m\u001b[0m\u001b[0m\n\u001b[1;32m   1447\u001b[0m         \u001b[0mself\u001b[0m\u001b[0;34m.\u001b[0m\u001b[0mhandles\u001b[0m\u001b[0;34m:\u001b[0m \u001b[0mIOHandles\u001b[0m \u001b[0;34m|\u001b[0m \u001b[0;32mNone\u001b[0m \u001b[0;34m=\u001b[0m \u001b[0;32mNone\u001b[0m\u001b[0;34m\u001b[0m\u001b[0;34m\u001b[0m\u001b[0m\n\u001b[0;32m-> 1448\u001b[0;31m         \u001b[0mself\u001b[0m\u001b[0;34m.\u001b[0m\u001b[0m_engine\u001b[0m \u001b[0;34m=\u001b[0m \u001b[0mself\u001b[0m\u001b[0;34m.\u001b[0m\u001b[0m_make_engine\u001b[0m\u001b[0;34m(\u001b[0m\u001b[0mf\u001b[0m\u001b[0;34m,\u001b[0m \u001b[0mself\u001b[0m\u001b[0;34m.\u001b[0m\u001b[0mengine\u001b[0m\u001b[0;34m)\u001b[0m\u001b[0;34m\u001b[0m\u001b[0;34m\u001b[0m\u001b[0m\n\u001b[0m\u001b[1;32m   1449\u001b[0m \u001b[0;34m\u001b[0m\u001b[0m\n\u001b[1;32m   1450\u001b[0m     \u001b[0;32mdef\u001b[0m \u001b[0mclose\u001b[0m\u001b[0;34m(\u001b[0m\u001b[0mself\u001b[0m\u001b[0;34m)\u001b[0m \u001b[0;34m->\u001b[0m \u001b[0;32mNone\u001b[0m\u001b[0;34m:\u001b[0m\u001b[0;34m\u001b[0m\u001b[0;34m\u001b[0m\u001b[0m\n",
            "\u001b[0;32m/usr/local/lib/python3.10/dist-packages/pandas/io/parsers/readers.py\u001b[0m in \u001b[0;36m_make_engine\u001b[0;34m(self, f, engine)\u001b[0m\n\u001b[1;32m   1703\u001b[0m                 \u001b[0;32mif\u001b[0m \u001b[0;34m\"b\"\u001b[0m \u001b[0;32mnot\u001b[0m \u001b[0;32min\u001b[0m \u001b[0mmode\u001b[0m\u001b[0;34m:\u001b[0m\u001b[0;34m\u001b[0m\u001b[0;34m\u001b[0m\u001b[0m\n\u001b[1;32m   1704\u001b[0m                     \u001b[0mmode\u001b[0m \u001b[0;34m+=\u001b[0m \u001b[0;34m\"b\"\u001b[0m\u001b[0;34m\u001b[0m\u001b[0;34m\u001b[0m\u001b[0m\n\u001b[0;32m-> 1705\u001b[0;31m             self.handles = get_handle(\n\u001b[0m\u001b[1;32m   1706\u001b[0m                 \u001b[0mf\u001b[0m\u001b[0;34m,\u001b[0m\u001b[0;34m\u001b[0m\u001b[0;34m\u001b[0m\u001b[0m\n\u001b[1;32m   1707\u001b[0m                 \u001b[0mmode\u001b[0m\u001b[0;34m,\u001b[0m\u001b[0;34m\u001b[0m\u001b[0;34m\u001b[0m\u001b[0m\n",
            "\u001b[0;32m/usr/local/lib/python3.10/dist-packages/pandas/io/common.py\u001b[0m in \u001b[0;36mget_handle\u001b[0;34m(path_or_buf, mode, encoding, compression, memory_map, is_text, errors, storage_options)\u001b[0m\n\u001b[1;32m    861\u001b[0m         \u001b[0;32mif\u001b[0m \u001b[0mioargs\u001b[0m\u001b[0;34m.\u001b[0m\u001b[0mencoding\u001b[0m \u001b[0;32mand\u001b[0m \u001b[0;34m\"b\"\u001b[0m \u001b[0;32mnot\u001b[0m \u001b[0;32min\u001b[0m \u001b[0mioargs\u001b[0m\u001b[0;34m.\u001b[0m\u001b[0mmode\u001b[0m\u001b[0;34m:\u001b[0m\u001b[0;34m\u001b[0m\u001b[0;34m\u001b[0m\u001b[0m\n\u001b[1;32m    862\u001b[0m             \u001b[0;31m# Encoding\u001b[0m\u001b[0;34m\u001b[0m\u001b[0;34m\u001b[0m\u001b[0m\n\u001b[0;32m--> 863\u001b[0;31m             handle = open(\n\u001b[0m\u001b[1;32m    864\u001b[0m                 \u001b[0mhandle\u001b[0m\u001b[0;34m,\u001b[0m\u001b[0;34m\u001b[0m\u001b[0;34m\u001b[0m\u001b[0m\n\u001b[1;32m    865\u001b[0m                 \u001b[0mioargs\u001b[0m\u001b[0;34m.\u001b[0m\u001b[0mmode\u001b[0m\u001b[0;34m,\u001b[0m\u001b[0;34m\u001b[0m\u001b[0;34m\u001b[0m\u001b[0m\n",
            "\u001b[0;31mFileNotFoundError\u001b[0m: [Errno 2] No such file or directory: '/content/FineTech_appData.csv'"
          ]
        }
      ],
      "source": [
        "finetech_data = pd.read_csv(\"/content/FineTech_appData.csv\")\n",
        "finetech_data.head()\n",
        "\n"
      ]
    },
    {
      "cell_type": "code",
      "execution_count": null,
      "metadata": {
        "colab": {
          "base_uri": "https://localhost:8080/",
          "height": 141
        },
        "id": "Q6H7x7jmLPCS",
        "outputId": "450e863c-84a6-4c44-c9a0-464853dd76c2"
      },
      "outputs": [
        {
          "output_type": "error",
          "ename": "NameError",
          "evalue": "name 'finetech_data' is not defined",
          "traceback": [
            "\u001b[0;31m---------------------------------------------------------------------------\u001b[0m",
            "\u001b[0;31mNameError\u001b[0m                                 Traceback (most recent call last)",
            "\u001b[0;32m<ipython-input-13-de611e29e3ef>\u001b[0m in \u001b[0;36m<cell line: 1>\u001b[0;34m()\u001b[0m\n\u001b[0;32m----> 1\u001b[0;31m \u001b[0mfinetech_data\u001b[0m\u001b[0;34m.\u001b[0m\u001b[0mshape\u001b[0m\u001b[0;34m\u001b[0m\u001b[0;34m\u001b[0m\u001b[0m\n\u001b[0m",
            "\u001b[0;31mNameError\u001b[0m: name 'finetech_data' is not defined"
          ]
        }
      ],
      "source": [
        "finetech_data.shape\n"
      ]
    },
    {
      "cell_type": "code",
      "execution_count": null,
      "metadata": {
        "id": "1UmnuBjSLhKt"
      },
      "outputs": [],
      "source": [
        "finetech_data.tail(10)"
      ]
    },
    {
      "cell_type": "code",
      "execution_count": null,
      "metadata": {
        "id": "hrg9CCE3MOcM"
      },
      "outputs": [],
      "source": [
        "for i in [1,2,3,4,5]:\n",
        "  print(finetech_data.loc[i,'screen_list'],'\\n')\n"
      ]
    },
    {
      "cell_type": "markdown",
      "metadata": {
        "id": "fdbJhqDDNuLn"
      },
      "source": []
    },
    {
      "cell_type": "markdown",
      "metadata": {
        "id": "CNxQ8MzqNuFg"
      },
      "source": []
    },
    {
      "cell_type": "markdown",
      "metadata": {
        "id": "-2A-db50MomP"
      },
      "source": []
    },
    {
      "cell_type": "code",
      "execution_count": null,
      "metadata": {
        "id": "qZwm5KG0M6N0"
      },
      "outputs": [],
      "source": [
        "finetech_data.isnull().sum() # total null value  i the entire dataset"
      ]
    },
    {
      "cell_type": "code",
      "execution_count": null,
      "metadata": {
        "id": "P8plMTrpNouR"
      },
      "outputs": [],
      "source": [
        "finetech_data.info()"
      ]
    },
    {
      "cell_type": "code",
      "execution_count": null,
      "metadata": {
        "id": "rkIF80lPN1Oy"
      },
      "outputs": [],
      "source": [
        "finetech_data.describe()\n",
        "#given the distribution of the numerical variables."
      ]
    },
    {
      "cell_type": "code",
      "execution_count": null,
      "metadata": {
        "id": "HNBdJAPpN1Rg"
      },
      "outputs": [],
      "source": [
        "features =finetech_data.columns\n",
        "for i in features:\n",
        "  print(\"\"\"unique value of{}\\n{}\\nlen is{}\\n................\\n\"\"\".format(i, finetech_data[i].unique(),len(finetech_data[i].unique())))"
      ]
    },
    {
      "cell_type": "code",
      "execution_count": null,
      "metadata": {
        "id": "MY9pCV7qN1Tz"
      },
      "outputs": [],
      "source": [
        "finetech_data.dtypes"
      ]
    },
    {
      "cell_type": "code",
      "execution_count": null,
      "metadata": {
        "id": "78xbMWv1N1XX"
      },
      "outputs": [],
      "source": [
        "#convert hour(object) column into integer column........\n",
        "finetech_data['hour'] = finetech_data.hour.str.slice(1,3).astype(int)"
      ]
    },
    {
      "cell_type": "code",
      "execution_count": null,
      "metadata": {
        "id": "SoOAIT4cSa3I"
      },
      "outputs": [],
      "source": [
        "finetech_data.dtypes\n"
      ]
    },
    {
      "cell_type": "code",
      "execution_count": null,
      "metadata": {
        "id": "RE0Ctd93Tx7W"
      },
      "outputs": [],
      "source": [
        "finetech_data.columns\n"
      ]
    },
    {
      "cell_type": "code",
      "execution_count": null,
      "metadata": {
        "id": "_cwKiWMKTx94"
      },
      "outputs": [],
      "source": [
        "# drop object dtype columns\n",
        "finetech_data2 = finetech_data.drop(['user','first_open','screen_list','enrolled_date'],axis =1)"
      ]
    },
    {
      "cell_type": "code",
      "execution_count": null,
      "metadata": {
        "id": "uySqV4qZTyAy"
      },
      "outputs": [],
      "source": [
        "finetech_data2.head()"
      ]
    },
    {
      "cell_type": "code",
      "execution_count": null,
      "metadata": {
        "id": "ka2VfxLuTyDI"
      },
      "outputs": [],
      "source": [
        "plt.figure(figsize=(16,9)) #heatmap size in ratio 16:9\n",
        "sns.heatmap(finetech_data2.corr(), annot = True, cmap ='coolwarm') #show heatmap\n",
        "\n",
        "plt.title(\"heatmap using correlation matrix of finetech_data2\", fontsize = 25)# title of heatmap\n",
        "plt.show()"
      ]
    },
    {
      "cell_type": "code",
      "execution_count": null,
      "metadata": {
        "id": "Txz2NFEgTyHv"
      },
      "outputs": [],
      "source": [
        "#pairplot of finetech_data2 dataset\n",
        "import seaborn as sns\n",
        "\n",
        "sns.pairplot(finetech_data, hue ='enrolled')\n",
        "\n"
      ]
    },
    {
      "cell_type": "markdown",
      "metadata": {
        "id": "pxVmToubQHud"
      },
      "source": []
    },
    {
      "cell_type": "markdown",
      "metadata": {
        "id": "A_orF6usQHxm"
      },
      "source": []
    },
    {
      "cell_type": "markdown",
      "metadata": {
        "id": "g0wP88bLQH0q"
      },
      "source": []
    },
    {
      "cell_type": "markdown",
      "metadata": {
        "id": "UwybeBMKQH3b"
      },
      "source": []
    },
    {
      "cell_type": "markdown",
      "metadata": {
        "id": "bJJlyq1WQH6Q"
      },
      "source": []
    },
    {
      "cell_type": "code",
      "execution_count": null,
      "metadata": {
        "id": "OVIBGNXQTyKE"
      },
      "outputs": [],
      "source": [
        "# show countplot of 'enrolled' features\n",
        "sns.countplot(finetech_data['enrolled'])\n",
        "plt.show()"
      ]
    },
    {
      "cell_type": "code",
      "execution_count": null,
      "metadata": {
        "id": "sFLVx4gPeCNV"
      },
      "outputs": [],
      "source": [
        "#value enrolled and not enrolled customer:\n",
        "\n",
        "print('not enrolled user - ',(finetech_data2.enrolled <1).sum(),\"out of 5000\")\n",
        "print('enrolled user - ',5000-(finetech_data2.enrolled <1).sum(),\"out of 5000\")"
      ]
    },
    {
      "cell_type": "code",
      "execution_count": null,
      "metadata": {
        "id": "rW6uGUg0eCQC"
      },
      "outputs": [],
      "source": [
        "plt.figure(figsize =(16,9))\n",
        "features = finetech_data2.columns\n",
        "for i,j in enumerate(features):\n",
        "  plt.subplot(3,3,i+1)\n",
        "  sns.distplot(finetech_data2[j])\n",
        "plt.show()"
      ]
    },
    {
      "cell_type": "code",
      "execution_count": null,
      "metadata": {
        "id": "rsSuI-sCeCTd"
      },
      "outputs": [],
      "source": [
        "for i, j in enumerate(features):\n",
        "  print(i, j)"
      ]
    },
    {
      "cell_type": "code",
      "execution_count": null,
      "metadata": {
        "id": "XkLzNDwfeCZ2"
      },
      "outputs": [],
      "source": [
        "sns.set() #set background dark grid\n",
        "plt.figure(figsize =(16,9))\n",
        "plt.title(\"correlation of all features with enrolled\",fontsize = 20)\n",
        "finetech_data3 = finetech_data2.drop(['enrolled'],axis =1) #drop the enrolled column\n",
        "\n",
        "# Calculate correlations and store in a Series\n",
        "correlations = finetech_data3.corrwith(finetech_data2.enrolled)\n",
        "\n",
        "# Use the 'x' and 'y' keyword arguments to specify data mapping\n",
        "ax = sns.barplot(x=correlations.index, y=correlations.values) #plot bar graph\n",
        "\n",
        "ax.tick_params(labelsize = 15,labelrotation=20,color ='m') # decorate x and y ticks font\n",
        "\n"
      ]
    },
    {
      "cell_type": "code",
      "execution_count": null,
      "metadata": {
        "id": "UShe5Kv8TyNq"
      },
      "outputs": [],
      "source": [
        "finetech_data.head()\n",
        "\n"
      ]
    },
    {
      "cell_type": "code",
      "execution_count": null,
      "metadata": {
        "id": "T3-UETiGaofP"
      },
      "outputs": [],
      "source": [
        "finetech_data['first_open'] = [parser.parse(i) for i in finetech_data['first_open']]"
      ]
    },
    {
      "cell_type": "code",
      "execution_count": null,
      "metadata": {
        "id": "C7c-I0ROHfzP"
      },
      "outputs": [],
      "source": [
        "finetech_data.dtypes"
      ]
    },
    {
      "cell_type": "code",
      "execution_count": null,
      "metadata": {
        "id": "4n31MdZrGYa_"
      },
      "outputs": [],
      "source": []
    },
    {
      "cell_type": "code",
      "execution_count": null,
      "metadata": {
        "id": "MVwG9anwwpaB"
      },
      "outputs": [],
      "source": [
        "#convert object data into time format\n",
        "finetech_data['enrolled_date'] = [parser.parse(i) if isinstance (i , str) else i for i in finetech_data['enrolled_date']]"
      ]
    },
    {
      "cell_type": "code",
      "execution_count": null,
      "metadata": {
        "id": "ErHJk8Ftwpcn"
      },
      "outputs": [],
      "source": [
        "finetech_data.dtypes"
      ]
    },
    {
      "cell_type": "code",
      "execution_count": null,
      "metadata": {
        "id": "DcELsqoSzpMC"
      },
      "outputs": [],
      "source": [
        "# Convert 'enrolled' column to datetime format"
      ]
    },
    {
      "cell_type": "markdown",
      "metadata": {
        "id": "Qqrb9Kmq0fQf"
      },
      "source": []
    },
    {
      "cell_type": "code",
      "execution_count": null,
      "metadata": {
        "id": "pq8PPNtSzpO0"
      },
      "outputs": [],
      "source": [
        "finetech_data['time_to_enrolled']  = (finetech_data.enrolled_date  -  finetech_data.first_open) / pd.Timedelta(hours=1)\n"
      ]
    },
    {
      "cell_type": "code",
      "execution_count": null,
      "metadata": {
        "id": "YSJb5G4S5cSE"
      },
      "outputs": [],
      "source": [
        "\n",
        "#finetech_data['time_to_enrolled']  = (finetech_data.enrolled_date  -  finetech_data.first_open).astype('timedelta64[h]')\n",
        "\n"
      ]
    },
    {
      "cell_type": "code",
      "execution_count": null,
      "metadata": {
        "id": "vYEtXtwz56rZ"
      },
      "outputs": [],
      "source": [
        "finetech_data.dtypes"
      ]
    },
    {
      "cell_type": "code",
      "execution_count": null,
      "metadata": {
        "id": "DrSqeNbdKNey"
      },
      "outputs": [],
      "source": [
        "plt.hist(finetech_data['time_to_enrolled'].dropna())"
      ]
    },
    {
      "cell_type": "code",
      "execution_count": null,
      "metadata": {
        "id": "3HxRnEpLzpRx"
      },
      "outputs": [],
      "source": [
        "#plot histogram\n",
        "plt.hist(finetech_data['time_to_enrolled'].dropna(), range =(0,100))"
      ]
    },
    {
      "cell_type": "markdown",
      "metadata": {
        "id": "reEjNfPsJoju"
      },
      "source": []
    },
    {
      "cell_type": "code",
      "execution_count": null,
      "metadata": {
        "id": "YRwkgS1IwpfJ"
      },
      "outputs": [],
      "source": [
        "\n",
        "\n",
        "\n",
        "\n",
        "\n",
        "\n",
        "\n",
        "\n",
        "\n",
        "\n",
        "\n",
        "\n",
        "\n",
        "\n",
        "\n",
        "\n",
        "\n",
        "\n",
        "\n",
        "\n",
        "\n",
        "\n",
        "\n",
        "\n",
        "\n",
        "\n",
        "\n",
        "\n",
        "\n",
        "\n",
        "quit\n",
        "\n",
        "\n",
        "\n",
        "\n",
        "\n",
        "\n",
        "\n",
        "\n"
      ]
    },
    {
      "cell_type": "code",
      "execution_count": null,
      "metadata": {
        "id": "pLc5q2fNzpUh"
      },
      "outputs": [],
      "source": [
        "# those customer have enrolled after 48 hour set as 0\n",
        "finetech_data.loc[finetech_data.time_to_enrolled>48,'enrolled'] =0"
      ]
    },
    {
      "cell_type": "code",
      "execution_count": null,
      "metadata": {
        "id": "1Kn8jcrAKgnZ"
      },
      "outputs": [],
      "source": [
        "finetech_data.head()"
      ]
    },
    {
      "cell_type": "code",
      "execution_count": null,
      "metadata": {
        "id": "QzXLCDzALve0"
      },
      "outputs": [],
      "source": [
        "finetech_data.drop(columns=['time_to_enrolled','enrolled_date','enrolled'],inplace = True)"
      ]
    },
    {
      "cell_type": "code",
      "execution_count": null,
      "metadata": {
        "id": "uQVOsAxOKgp3"
      },
      "outputs": [],
      "source": [
        "finetech_data"
      ]
    },
    {
      "cell_type": "code",
      "execution_count": null,
      "metadata": {
        "id": "EdC4ilxrLu9j"
      },
      "outputs": [],
      "source": [
        "finetech_app_screen_data = pd.read_csv(\"/content/top_screens.csv\").top_screens.values\n"
      ]
    },
    {
      "cell_type": "code",
      "execution_count": null,
      "metadata": {
        "id": "Ljuvr7icKgsh"
      },
      "outputs": [],
      "source": [
        "finetech_app_screen_data"
      ]
    },
    {
      "cell_type": "code",
      "execution_count": null,
      "metadata": {
        "id": "e8muwssEKgvC"
      },
      "outputs": [],
      "source": [
        "type(finetech_app_screen_data)"
      ]
    },
    {
      "cell_type": "code",
      "execution_count": null,
      "metadata": {
        "id": "ENegk7l9KgyR"
      },
      "outputs": [],
      "source": [
        "#add ',' at the end of  each string of the 'screen lsit' for the furtjer operation\n",
        "\n",
        "finetech_data['screen_list'] = finetech_data.screen_list.astype(str) + ','"
      ]
    },
    {
      "cell_type": "code",
      "execution_count": null,
      "metadata": {
        "id": "T7srFL9DKg2Z"
      },
      "outputs": [],
      "source": [
        "finetech_data.head()"
      ]
    },
    {
      "cell_type": "code",
      "execution_count": null,
      "metadata": {
        "id": "GNRZC16SKg4o"
      },
      "outputs": [],
      "source": [
        "#The ‘Screen_list’ contains string values but we can’t use it directly. So to solve this problem we are taking each screen name from ‘fineTech_app_screen_Data’ and append as a column by the same name to ‘fineTech_appData’. Then check this screen name is available in ‘screen_list’ if it is available then add value 1 else 0 in the appended column.\n",
        "\n",
        "\n",
        "for screen_name in finetech_app_screen_data:\n",
        "  finetech_data[screen_name] = finetech_data.screen_list.str.contains(screen_name).astype(int)\n",
        "  finetech_data['screen_list'] = finetech_data.screen_list.str.replace(screen_name+\",\", \"\")\n",
        "\n"
      ]
    },
    {
      "cell_type": "code",
      "execution_count": null,
      "metadata": {
        "id": "XAW9J475Kg77"
      },
      "outputs": [],
      "source": [
        "#test\n",
        "finetech_data.screen_list.str.contains(screen_name).astype(int)"
      ]
    },
    {
      "cell_type": "code",
      "execution_count": null,
      "metadata": {
        "id": "QnmBhWEEzpXS"
      },
      "outputs": [],
      "source": [
        "#get shape\n",
        "finetech_data.shape"
      ]
    },
    {
      "cell_type": "code",
      "execution_count": null,
      "metadata": {
        "id": "P2dn5pJvzpay"
      },
      "outputs": [],
      "source": [
        "finetech_data.head()"
      ]
    },
    {
      "cell_type": "code",
      "execution_count": null,
      "metadata": {
        "id": "1xK9V2eUwph-"
      },
      "outputs": [],
      "source": [
        "# remain screen in scrren_list\n",
        "\n",
        "finetech_data.loc[0,'screen_list']"
      ]
    },
    {
      "cell_type": "code",
      "execution_count": null,
      "metadata": {
        "id": "NEOemTZUwplR"
      },
      "outputs": [],
      "source": [
        "finetech_data.screen_list.str.count(',')"
      ]
    },
    {
      "cell_type": "code",
      "execution_count": null,
      "metadata": {
        "id": "F_foA3nLF3_8"
      },
      "outputs": [],
      "source": [
        "# count remain screen list and store counted number in ' remain_screen_list'\n",
        "\n",
        "finetech_data['remain_screen_list'] =finetech_data.screen_list.str.count(',')\n"
      ]
    },
    {
      "cell_type": "code",
      "execution_count": null,
      "metadata": {
        "id": "1SkKb4qbGppP"
      },
      "outputs": [],
      "source": [
        "#drop the 'screen_list'\n",
        "\n",
        "finetech_data.drop(columns=['screen_list'],inplace = True)"
      ]
    },
    {
      "cell_type": "code",
      "execution_count": null,
      "metadata": {
        "id": "jnsYByPXGpr9"
      },
      "outputs": [],
      "source": [
        "finetech_data.head()"
      ]
    },
    {
      "cell_type": "code",
      "execution_count": null,
      "metadata": {
        "id": "zCxBQmTYGpub"
      },
      "outputs": [],
      "source": [
        "#total column\n",
        "finetech_data.columns"
      ]
    },
    {
      "cell_type": "code",
      "execution_count": null,
      "metadata": {
        "id": "ATFdTH4sGpxO"
      },
      "outputs": [],
      "source": [
        "saving_screens = ['Saving1',\n",
        "                  'Saving2',\n",
        "                  'Saving2Amount',\n",
        "                  'Saving4',\n",
        "                  'Saving5',\n",
        "                  'Saving6',\n",
        "                  'Saving7',\n",
        "                  'Saving8',\n",
        "                  'Saving9',\n",
        "                  'Saving10',\n",
        "                  ]\n",
        "finetech_data['saving_screen_list']= finetech_data[saving_screens].sum(axis=1)\n",
        "finetech_data.drop(columns =saving_screens,inplace = True)"
      ]
    },
    {
      "cell_type": "markdown",
      "metadata": {
        "id": "J6cxSzBgI9eg"
      },
      "source": []
    },
    {
      "cell_type": "code",
      "execution_count": null,
      "metadata": {
        "id": "WS0LLjUGGpz3"
      },
      "outputs": [],
      "source": [
        "finetech_data"
      ]
    },
    {
      "cell_type": "code",
      "execution_count": null,
      "metadata": {
        "id": "xiT8QT90Gp2b"
      },
      "outputs": [],
      "source": [
        "credit_screen = ['Credit1',\n",
        "                 'Credit2',\n",
        "                 'Credit3',\n",
        "                 'Credit3Container',\n",
        "                 'Credit3Dashboard',\n",
        "                 ]\n",
        "\n",
        "finetech_data['credit_screen_list']= finetech_data[credit_screen].sum(axis=1)\n",
        "finetech_data.drop(columns =credit_screen,inplace = True)"
      ]
    },
    {
      "cell_type": "code",
      "execution_count": null,
      "metadata": {
        "id": "TbkFXSJqGp5c"
      },
      "outputs": [],
      "source": [
        "finetech_data"
      ]
    },
    {
      "cell_type": "code",
      "execution_count": null,
      "metadata": {
        "id": "63k3oKXkGp8S"
      },
      "outputs": [],
      "source": []
    },
    {
      "cell_type": "code",
      "execution_count": null,
      "metadata": {
        "id": "qRy7Iu2uJmBL"
      },
      "outputs": [],
      "source": [
        "cc_screens =['CC1',\n",
        "            'CC1Category',\n",
        "            'CC3',\n",
        "            ]\n",
        "finetech_data['cc_screens_count'] = finetech_data[cc_screens].sum(axis =1) # Use the list of column names to select the columns for summation.\n",
        "finetech_data.drop(columns =cc_screens, axis =1, inplace=True) # Add inplace=True to modify the DataFrame directly."
      ]
    },
    {
      "cell_type": "code",
      "execution_count": null,
      "metadata": {
        "id": "V4fvbq_gJmD2"
      },
      "outputs": [],
      "source": [
        "finetech_data.head()"
      ]
    },
    {
      "cell_type": "code",
      "execution_count": null,
      "metadata": {
        "id": "JnOr3PWvJmGu"
      },
      "outputs": [],
      "source": [
        "loan_screens = ['Loan',\n",
        "                'Loan2',\n",
        "                'Loan3',\n",
        "                'Loan4',\n",
        "                ]\n",
        "finetech_data['loan_screen_count'] = finetech_data[loan_screens].sum(axis =1)\n",
        "finetech_data.drop(columns =loan_screens, axis =1, inplace=True)"
      ]
    },
    {
      "cell_type": "code",
      "execution_count": null,
      "metadata": {
        "id": "d-ug_eW0JmJg"
      },
      "outputs": [],
      "source": [
        "finetech_data.head()"
      ]
    },
    {
      "cell_type": "code",
      "execution_count": null,
      "metadata": {
        "id": "AVsitcScJmME"
      },
      "outputs": [],
      "source": [
        "#get thie shape of the dataset\n",
        "finetech_data.shape"
      ]
    },
    {
      "cell_type": "code",
      "execution_count": null,
      "metadata": {
        "id": "fFinTakGJmO8"
      },
      "outputs": [],
      "source": [
        "finetech_data.info()"
      ]
    },
    {
      "cell_type": "code",
      "execution_count": null,
      "metadata": {
        "id": "HgPA7N-2LeHV"
      },
      "outputs": [],
      "source": [
        "finetech_data.describe()"
      ]
    },
    {
      "cell_type": "code",
      "execution_count": null,
      "metadata": {
        "id": "GxuYzGiDLeLP"
      },
      "outputs": [],
      "source": []
    },
    {
      "cell_type": "markdown",
      "metadata": {
        "id": "jOzmbYPILzND"
      },
      "source": [
        "## **Heatmap with correlation matrix of new finetech_data**"
      ]
    },
    {
      "cell_type": "code",
      "execution_count": null,
      "metadata": {
        "id": "Se5R5kXnLeOG"
      },
      "outputs": [],
      "source": [
        "#heatmap with correlation matrix of new finetech_data\n",
        "\n",
        "plt.figure(figsize =(25,16))\n",
        "sns.heatmap(finetech_data.corr(),annot =True, linewidth=2)"
      ]
    },
    {
      "cell_type": "code",
      "execution_count": null,
      "metadata": {
        "id": "dt_lq_M2LeSC"
      },
      "outputs": [],
      "source": [
        "finetech_data.columns"
      ]
    },
    {
      "cell_type": "code",
      "execution_count": null,
      "metadata": {
        "id": "znodm9S7LeUb"
      },
      "outputs": [],
      "source": [
        "finetech_data['ProfileChildren '].unique()"
      ]
    },
    {
      "cell_type": "code",
      "execution_count": null,
      "metadata": {
        "id": "NaNkDqjFLeW-"
      },
      "outputs": [],
      "source": [
        "corr_matrix = finetech_data.corr()\n",
        "corr_matrix['ProfileChildren ']"
      ]
    },
    {
      "cell_type": "code",
      "execution_count": null,
      "metadata": {
        "id": "8eC038W6LeZS"
      },
      "outputs": [],
      "source": [
        "finetech_data['ProfileChildren ']"
      ]
    },
    {
      "cell_type": "code",
      "execution_count": null,
      "metadata": {
        "id": "Wc_8uX7yLech"
      },
      "outputs": [],
      "source": []
    },
    {
      "cell_type": "markdown",
      "metadata": {
        "id": "YlTFtnlFNt0-"
      },
      "source": [
        "# **Data Preprocessing **"
      ]
    },
    {
      "cell_type": "markdown",
      "metadata": {
        "id": "WpSYckHNOHse"
      },
      "source": [
        "**split dataset in train and test**"
      ]
    },
    {
      "cell_type": "code",
      "execution_count": null,
      "metadata": {
        "id": "4tJjlzB6JmRp"
      },
      "outputs": [],
      "source": [
        "finetech_data.columns"
      ]
    },
    {
      "cell_type": "code",
      "execution_count": null,
      "metadata": {
        "id": "lUyTwQXEJmUN"
      },
      "outputs": [],
      "source": [
        "finetech_data['enrolled'].unique()"
      ]
    },
    {
      "cell_type": "code",
      "execution_count": null,
      "metadata": {
        "id": "W66bLkouJmWy"
      },
      "outputs": [],
      "source": [
        "\n"
      ]
    },
    {
      "cell_type": "code",
      "execution_count": null,
      "metadata": {
        "id": "eCBuf7ynJmaI"
      },
      "outputs": [],
      "source": [
        "finetech_data.info()"
      ]
    },
    {
      "cell_type": "code",
      "execution_count": null,
      "metadata": {
        "id": "hr54OUBAGp-e"
      },
      "outputs": [],
      "source": [
        "clean_finetech_data = finetech_data\n",
        "target = finetech_data['enrolled']\n",
        "finetech_data.drop(columns ='enrolled',inplace =True)"
      ]
    },
    {
      "cell_type": "code",
      "execution_count": null,
      "metadata": {
        "id": "R5WubItzGqBe"
      },
      "outputs": [],
      "source": [
        "from sklearn.model_selection import train_test_split\n",
        "X_train, X_test, y_train, y_test = train_test_split(finetech_data, target, test_size = 0.2, random_state = 0)\n"
      ]
    },
    {
      "cell_type": "code",
      "source": [
        "print('Shape of X_train = ', X_train.shape)\n",
        "print('Shape of X_test = ', X_test.shape)\n",
        "print('Shape of y_train = ', y_train.shape)\n",
        "print('Shape of y_test = ', y_test.shape)"
      ],
      "metadata": {
        "id": "voUo7vP7wTkI"
      },
      "execution_count": null,
      "outputs": []
    },
    {
      "cell_type": "code",
      "source": [
        "\n",
        "# take User ID in another variable\n",
        "train_userID = X_train['user']\n",
        "X_train.drop(columns= 'user', inplace =True)\n",
        "test_userID = X_test['user']\n",
        "X_test.drop(columns= 'user', inplace =True)"
      ],
      "metadata": {
        "id": "SMDP-ZCrwTm4"
      },
      "execution_count": null,
      "outputs": []
    },
    {
      "cell_type": "code",
      "source": [
        "\n",
        "print('Shape of X_train = ', X_train.shape)\n",
        "print('Shape of X_test = ', X_test.shape)\n",
        "print('Shape of train_userID = ', train_userID.shape)\n",
        "print('Shape of test_userID = ', test_userID.shape)"
      ],
      "metadata": {
        "id": "yalsYhGzwTpk"
      },
      "execution_count": null,
      "outputs": []
    },
    {
      "cell_type": "code",
      "source": [
        "finetech_data.info()"
      ],
      "metadata": {
        "id": "MpLke5xjyuBX"
      },
      "execution_count": null,
      "outputs": []
    },
    {
      "cell_type": "markdown",
      "source": [
        "# **feature scaling **"
      ],
      "metadata": {
        "id": "QeacgkmDxkWF"
      }
    },
    {
      "cell_type": "code",
      "source": [
        "# Import necessary libraries\n",
        "from sklearn.preprocessing import StandardScaler\n",
        "from sklearn.preprocessing import LabelEncoder\n",
        "\n",
        "# Initialize LabelEncoder\n",
        "le = LabelEncoder()\n",
        "\n",
        "# Iterate over columns in X_train and encode string columns\n",
        "for col in X_train.columns:\n",
        "    if X_train[col].dtype == 'object':  # Check if column is of object (string) type\n",
        "        X_train[col] = le.fit_transform(X_train[col])\n",
        "\n",
        "# Do the same for X_test\n",
        "for col in X_test.columns:\n",
        "    if X_test[col].dtype == 'object':\n",
        "        X_test[col] = le.fit_transform(X_test[col])\n",
        "\n",
        "# Initialize StandardScaler\n",
        "sc = StandardScaler()\n",
        "\n",
        "# Fit and transform the data\n",
        "X_train_sc = sc.fit_transform(X_train)\n",
        "X_test_sc = sc.transform(X_test)"
      ],
      "metadata": {
        "id": "J7rc93aAwTsh",
        "colab": {
          "base_uri": "https://localhost:8080/",
          "height": 211
        },
        "outputId": "42ee6483-9046-464b-a601-5d125de161ff"
      },
      "execution_count": null,
      "outputs": [
        {
          "output_type": "error",
          "ename": "NameError",
          "evalue": "name 'X_train' is not defined",
          "traceback": [
            "\u001b[0;31m---------------------------------------------------------------------------\u001b[0m",
            "\u001b[0;31mNameError\u001b[0m                                 Traceback (most recent call last)",
            "\u001b[0;32m<ipython-input-14-94573f5b9de1>\u001b[0m in \u001b[0;36m<cell line: 9>\u001b[0;34m()\u001b[0m\n\u001b[1;32m      7\u001b[0m \u001b[0;34m\u001b[0m\u001b[0m\n\u001b[1;32m      8\u001b[0m \u001b[0;31m# Iterate over columns in X_train and encode string columns\u001b[0m\u001b[0;34m\u001b[0m\u001b[0;34m\u001b[0m\u001b[0m\n\u001b[0;32m----> 9\u001b[0;31m \u001b[0;32mfor\u001b[0m \u001b[0mcol\u001b[0m \u001b[0;32min\u001b[0m \u001b[0mX_train\u001b[0m\u001b[0;34m.\u001b[0m\u001b[0mcolumns\u001b[0m\u001b[0;34m:\u001b[0m\u001b[0;34m\u001b[0m\u001b[0;34m\u001b[0m\u001b[0m\n\u001b[0m\u001b[1;32m     10\u001b[0m     \u001b[0;32mif\u001b[0m \u001b[0mX_train\u001b[0m\u001b[0;34m[\u001b[0m\u001b[0mcol\u001b[0m\u001b[0;34m]\u001b[0m\u001b[0;34m.\u001b[0m\u001b[0mdtype\u001b[0m \u001b[0;34m==\u001b[0m \u001b[0;34m'object'\u001b[0m\u001b[0;34m:\u001b[0m  \u001b[0;31m# Check if column is of object (string) type\u001b[0m\u001b[0;34m\u001b[0m\u001b[0;34m\u001b[0m\u001b[0m\n\u001b[1;32m     11\u001b[0m         \u001b[0mX_train\u001b[0m\u001b[0;34m[\u001b[0m\u001b[0mcol\u001b[0m\u001b[0;34m]\u001b[0m \u001b[0;34m=\u001b[0m \u001b[0mle\u001b[0m\u001b[0;34m.\u001b[0m\u001b[0mfit_transform\u001b[0m\u001b[0;34m(\u001b[0m\u001b[0mX_train\u001b[0m\u001b[0;34m[\u001b[0m\u001b[0mcol\u001b[0m\u001b[0;34m]\u001b[0m\u001b[0;34m)\u001b[0m\u001b[0;34m\u001b[0m\u001b[0;34m\u001b[0m\u001b[0m\n",
            "\u001b[0;31mNameError\u001b[0m: name 'X_train' is not defined"
          ]
        }
      ]
    },
    {
      "cell_type": "code",
      "source": [
        "finetech_data.columns\n"
      ],
      "metadata": {
        "id": "Nj2XEEdZzxh9"
      },
      "execution_count": null,
      "outputs": []
    },
    {
      "cell_type": "code",
      "source": [
        "from sklearn.tree import DecisionTreeClassifier\n",
        "dt_model = DecisionTreeClassifier(criterion= 'entropy', random_state=0)\n",
        "dt_model.fit(X_train, y_train)\n",
        "y_pred_dt = dt_model.predict(X_test)\n",
        "accuracy_score(y_test, y_pred_dt)"
      ],
      "metadata": {
        "id": "GaImV6rrAJM6"
      },
      "execution_count": null,
      "outputs": []
    },
    {
      "cell_type": "code",
      "source": [
        "from sklearn.neighbors import KNeighborsClassifier  # Import KNeighborsClassifier\n",
        "from sklearn.metrics import accuracy_score\n",
        "\n",
        "knn_model2 = KNeighborsClassifier(n_neighbors=5, metric='minkowski', p=2,)\n",
        "knn_model2.fit(X_train_sc, y_train)\n",
        "y_pred_knn_sc = knn_model2.predict(X_test_sc)\n",
        "\n",
        "accuracy_score(y_test, y_pred_knn_sc)\n"
      ],
      "metadata": {
        "id": "T48FfN9-AJQO"
      },
      "execution_count": null,
      "outputs": []
    },
    {
      "cell_type": "code",
      "source": [
        "\n",
        "# Logistic Regression\n",
        "from sklearn.metrics import accuracy_score\n",
        "from sklearn.linear_model import LogisticRegression\n",
        "lr_model = LogisticRegression(random_state = 0, penalty = 'l2')\n",
        "lr_model.fit(X_train, y_train)\n",
        "y_pred_lr = lr_model.predict(X_test)\n",
        "\n",
        "accuracy_score(y_test, y_pred_lr)\n"
      ],
      "metadata": {
        "id": "hSglhn3ywTvY"
      },
      "execution_count": null,
      "outputs": []
    },
    {
      "cell_type": "code",
      "source": [
        "#train with Standert Scaling dataset\n",
        "lr_model2 = LogisticRegression(random_state = 0, penalty = 'l2')\n",
        "lr_model2.fit(X_train_sc, y_train)\n",
        "y_pred_lr_sc = lr_model2.predict(X_test_sc)\n",
        "\n",
        "accuracy_score(y_test, y_pred_lr_sc)"
      ],
      "metadata": {
        "id": "xrHl4U3ywTz3"
      },
      "execution_count": null,
      "outputs": []
    },
    {
      "cell_type": "code",
      "source": [
        "from xgboost import XGBClassifier\n",
        "xgb_model = XGBClassifier()\n",
        "xgb_model.fit(X_train, y_train)\n",
        "y_pred_xgb = xgb_model.predict(X_test)\n",
        "accuracy_score(y_test, y_pred_xgb)"
      ],
      "metadata": {
        "id": "J-p_tAW8wT31"
      },
      "execution_count": null,
      "outputs": []
    },
    {
      "cell_type": "code",
      "source": [
        "from xgboost import XGBClassifier\n",
        "xgb_model = XGBClassifier()\n",
        "xgb_model.fit(X_train, y_train)\n",
        "y_pred_xgb = xgb_model.predict(X_test)\n",
        "accuracy_score(y_test, y_pred_xgb)"
      ],
      "metadata": {
        "id": "ic0lHVPrwT6H"
      },
      "execution_count": null,
      "outputs": []
    },
    {
      "cell_type": "code",
      "source": [
        "xgb_model_pt1 = XGBClassifier(\n",
        " learning_rate =0.01,\n",
        " n_estimators=5000,\n",
        " max_depth=4,\n",
        " min_child_weight=6,\n",
        " gamma=0,\n",
        " subsample=0.8,\n",
        " colsample_bytree=0.8,\n",
        " reg_alpha=0.005,\n",
        " objective= 'binary:logistic',\n",
        " nthread=4,\n",
        " scale_pos_weight=1,\n",
        " seed=27)\n",
        "\n",
        "xgb_model_pt1.fit(X_train, y_train)\n",
        "y_pred_xgb_pt1 = xgb_model_pt1.predict(X_test)\n",
        "\n",
        "accuracy_score(y_test, y_pred_xgb_pt1)"
      ],
      "metadata": {
        "id": "JKL_7ujMwT78"
      },
      "execution_count": null,
      "outputs": []
    },
    {
      "cell_type": "code",
      "source": [],
      "metadata": {
        "id": "9YiHXtjjwT-J"
      },
      "execution_count": null,
      "outputs": []
    }
  ],
  "metadata": {
    "colab": {
      "provenance": []
    },
    "kernelspec": {
      "display_name": "Python 3",
      "name": "python3"
    },
    "language_info": {
      "name": "python"
    }
  },
  "nbformat": 4,
  "nbformat_minor": 0
}